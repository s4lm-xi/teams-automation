{
 "cells": [
  {
   "cell_type": "code",
   "execution_count": 1,
   "metadata": {},
   "outputs": [],
   "source": [
    "import pyautogui as gui\n",
    "import time"
   ]
  },
  {
   "cell_type": "code",
   "execution_count": 2,
   "metadata": {},
   "outputs": [],
   "source": [
    "def main(day, order):\n",
    "    six = 70\n",
    "    seven = six + 80\n",
    "    eight = seven + 80\n",
    "    nine = eight + 80\n",
    "    ten = nine + 80\n",
    "    eleven = ten + 80\n",
    "    twelve = eleven + 100\n",
    "    thirteen = twelve + 80\n",
    "    fourteen = thirteen + 80\n",
    "    i = 0\n",
    "    \n",
    "    for classes in order:\n",
    "        \n",
    "        if i >= 1:\n",
    "            index = order.index(classes)\n",
    "            sub = index - 1\n",
    "            total = index - sub\n",
    "            if total == -2:\n",
    "                print('3333')\n",
    "                time.sleep(3)\n",
    "            elif total == -3:\n",
    "                print('666666')\n",
    "                time.sleep(6)\n",
    "            elif total == -4:\n",
    "                print('999999')\n",
    "                time.sleep(9)\n",
    "            \n",
    "            \n",
    "        time.sleep(5)\n",
    "        x, y = gui.locateCenterOnScreen(day+'.png')\n",
    "        gui.click(x,y)\n",
    "\n",
    "        gui.move(300,500)\n",
    "\n",
    "        gui.scroll(20)\n",
    "        gui.scroll(-9)\n",
    "\n",
    "        if classes == 6:\n",
    "            gui.move(x, y+six)\n",
    "            gui.click(x-50, y+six, button='right')\n",
    "            time.sleep(1)\n",
    "        elif classes == 7:\n",
    "            gui.move(x, y+six)\n",
    "            gui.click(x-50, y+seven, button='right')\n",
    "            time.sleep(1)\n",
    "        elif classes == 8:\n",
    "            gui.move(x, y+six)\n",
    "            gui.click(x-50, y+eight, button='right')\n",
    "            time.sleep(1)\n",
    "        elif classes == 9:\n",
    "            gui.move(x, y+six)\n",
    "            gui.click(x-50, y+nine, button='right')\n",
    "            time.sleep(1)\n",
    "        elif classes == 10:\n",
    "            gui.move(x, y+six)\n",
    "            gui.click(x-50, y+ten, button='right')\n",
    "            time.sleep(1)\n",
    "        elif classes == 11:\n",
    "            gui.move(x, y+six)\n",
    "            gui.click(x-50, y+eleven, button='right')\n",
    "            time.sleep(1)\n",
    "        elif classes == 12:\n",
    "            gui.move(x, y+six)\n",
    "            gui.click(x-50, y+twelve, button='right')\n",
    "            time.sleep(1)\n",
    "        elif classes == 13:\n",
    "            gui.move(x, y+six)\n",
    "            gui.click(x-50, y+thirteen, button='right')\n",
    "            time.sleep(1)\n",
    "        elif classes == 14:\n",
    "            gui.move(x, y+six)\n",
    "            gui.click(x-50, y+fourteen, button='right')\n",
    "            time.sleep(1)\n",
    "\n",
    "        x, y = gui.locateCenterOnScreen('view.png')\n",
    "        gui.click(x,y)\n",
    "        time.sleep(5)\n",
    "        x, y = gui.locateCenterOnScreen('join.png')\n",
    "        gui.click(x, y)\n",
    "        \n",
    "        i+=1\n",
    "        #50 minute sleep in the session\n",
    "        time.sleep(3000)\n",
    "\n",
    "        #leaving the seesion\n",
    "        x, y = gui.locateCenterOnScreen('leave.png')\n",
    "        gui.click(x, y)\n",
    "\n",
    "        x, y = gui.locateCenterOnScreen('calender.png')\n",
    "        gui.click(x, y)\n",
    "\n"
   ]
  },
  {
   "cell_type": "code",
   "execution_count": 3,
   "metadata": {},
   "outputs": [
    {
     "ename": "TypeError",
     "evalue": "cannot unpack non-iterable NoneType object",
     "output_type": "error",
     "traceback": [
      "\u001b[0;31m---------------------------------------------------------------------------\u001b[0m",
      "\u001b[0;31mTypeError\u001b[0m                                 Traceback (most recent call last)",
      "\u001b[0;32m<ipython-input-3-ae1399101701>\u001b[0m in \u001b[0;36m<module>\u001b[0;34m\u001b[0m\n\u001b[0;32m----> 1\u001b[0;31m \u001b[0mmain\u001b[0m\u001b[0;34m(\u001b[0m\u001b[0;34m'tuesday'\u001b[0m\u001b[0;34m,\u001b[0m \u001b[0;34m[\u001b[0m\u001b[0;36m10\u001b[0m\u001b[0;34m,\u001b[0m\u001b[0;36m11\u001b[0m\u001b[0;34m,\u001b[0m\u001b[0;36m12\u001b[0m\u001b[0;34m]\u001b[0m\u001b[0;34m)\u001b[0m\u001b[0;34m\u001b[0m\u001b[0;34m\u001b[0m\u001b[0m\n\u001b[0m",
      "\u001b[0;32m<ipython-input-2-99eaa0ca1ad7>\u001b[0m in \u001b[0;36mmain\u001b[0;34m(day, order)\u001b[0m\n\u001b[1;32m     85\u001b[0m \u001b[0;34m\u001b[0m\u001b[0m\n\u001b[1;32m     86\u001b[0m         \u001b[0;31m#leaving the seesion\u001b[0m\u001b[0;34m\u001b[0m\u001b[0;34m\u001b[0m\u001b[0;34m\u001b[0m\u001b[0m\n\u001b[0;32m---> 87\u001b[0;31m         \u001b[0mx\u001b[0m\u001b[0;34m,\u001b[0m \u001b[0my\u001b[0m \u001b[0;34m=\u001b[0m \u001b[0mgui\u001b[0m\u001b[0;34m.\u001b[0m\u001b[0mlocateCenterOnScreen\u001b[0m\u001b[0;34m(\u001b[0m\u001b[0;34m'leave.png'\u001b[0m\u001b[0;34m)\u001b[0m\u001b[0;34m\u001b[0m\u001b[0;34m\u001b[0m\u001b[0m\n\u001b[0m\u001b[1;32m     88\u001b[0m         \u001b[0mgui\u001b[0m\u001b[0;34m.\u001b[0m\u001b[0mclick\u001b[0m\u001b[0;34m(\u001b[0m\u001b[0mx\u001b[0m\u001b[0;34m,\u001b[0m \u001b[0my\u001b[0m\u001b[0;34m)\u001b[0m\u001b[0;34m\u001b[0m\u001b[0;34m\u001b[0m\u001b[0m\n\u001b[1;32m     89\u001b[0m \u001b[0;34m\u001b[0m\u001b[0m\n",
      "\u001b[0;31mTypeError\u001b[0m: cannot unpack non-iterable NoneType object"
     ]
    }
   ],
   "source": [
    "main('tuesday', [10,11,12])"
   ]
  },
  {
   "cell_type": "code",
   "execution_count": null,
   "metadata": {},
   "outputs": [],
   "source": []
  }
 ],
 "metadata": {
  "kernelspec": {
   "display_name": "Python 3",
   "language": "python",
   "name": "python3"
  },
  "language_info": {
   "codemirror_mode": {
    "name": "ipython",
    "version": 3
   },
   "file_extension": ".py",
   "mimetype": "text/x-python",
   "name": "python",
   "nbconvert_exporter": "python",
   "pygments_lexer": "ipython3",
   "version": "3.8.3"
  }
 },
 "nbformat": 4,
 "nbformat_minor": 4
}
